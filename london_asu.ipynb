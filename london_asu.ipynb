{
 "cells": [
  {
   "cell_type": "markdown",
   "metadata": {},
   "source": [
    "# London ASU model"
   ]
  },
  {
   "cell_type": "markdown",
   "metadata": {},
   "source": [
    "## Requirements and module imports\n",
    "\n",
    "Code in this simulation uses a standard Anaconda Python environment (https://www.anaconda.com/distribution/#download-section). Additionally this model uses SimPy3 (https://simpy.readthedocs.io/en/latest/). Install SimPy3 with `pip install 'simpy<4'`."
   ]
  },
  {
   "cell_type": "code",
   "execution_count": 1,
   "metadata": {},
   "outputs": [],
   "source": [
    "import simpy\n",
    "import inspect\n",
    "from sim_utils.replication import Replicator\n",
    "from sim_utils.parameters import Scenario"
   ]
  },
  {
   "cell_type": "markdown",
   "metadata": {},
   "source": [
    "## Set up scenarios\n",
    "\n",
    "Parameters defined in scenarios will overwrite default values in the parameters python file."
   ]
  },
  {
   "cell_type": "code",
   "execution_count": 2,
   "metadata": {},
   "outputs": [],
   "source": [
    "# Set up a dictionary to hold scenarios\n",
    "scenarios = {}\n",
    "\n",
    "# Baseline sceanrio (model defaults)\n",
    "scenarios['base'] = Scenario()"
   ]
  },
  {
   "cell_type": "markdown",
   "metadata": {},
   "source": [
    "## Run model"
   ]
  },
  {
   "cell_type": "code",
   "execution_count": 3,
   "metadata": {},
   "outputs": [
    {
     "name": "stdout",
     "output_type": "stream",
     "text": [
      "                                                                               \n",
      "Global results (mean)\n",
      "---------------------\n",
      "name                        base\n",
      "total_patients           9,523.0\n",
      "total_patients_asu       5,276.0\n",
      "total_patients_displaced     0.0\n",
      "total_patients_waited        0.0\n",
      "\n",
      "Unit admissions\n",
      "------------------\n",
      "Barnet General SU       156.9\n",
      "Charing Cross SU        324.4\n",
      "Chelsea & Wminster SU   182.9\n",
      "Croydon SU              259.8\n",
      "Epsom SU                192.8\n",
      "Hillingdon SU           274.4\n",
      "Homerton SU             162.4\n",
      "Kingston SU             185.8\n",
      "King’s College SU       172.6\n",
      "Lewisham SU             518.0\n",
      "N Middlesex SU          307.2\n",
      "Newham General SU       168.9\n",
      "Northwick Park SU       366.4\n",
      "Princess Royal SU       267.7\n",
      "Queens Romford SU       394.5\n",
      "Royal Free SU           278.1\n",
      "Royal London SU         110.5\n",
      "St George’s SU          147.6\n",
      "St Helier SU              0.0\n",
      "St Thomas SU            216.7\n",
      "University College SU   166.6\n",
      "W Middlesex SU          189.9\n",
      "Whipps Cross SU         200.2\n",
      "Name: mean, dtype: float64\n",
      "\n",
      "Unit occupancy\n",
      "-----------------\n",
      "name                   base\n",
      "Barnet General SU      11.2\n",
      "Charing Cross SU       36.4\n",
      "Chelsea & Wminster SU  15.5\n",
      "Croydon SU             28.8\n",
      "Epsom SU               10.4\n",
      "Hillingdon SU          24.7\n",
      "Homerton SU            24.0\n",
      "Kingston SU            15.7\n",
      "King’s College SU      17.0\n",
      "Lewisham SU            51.3\n",
      "N Middlesex SU         25.5\n",
      "Newham General SU      10.4\n",
      "Northwick Park SU      21.7\n",
      "Princess Royal SU      19.7\n",
      "Queens Romford SU      21.1\n",
      "Royal Free SU          13.8\n",
      "Royal London SU         6.5\n",
      "St George’s SU         15.1\n",
      "St Helier SU            0.0\n",
      "St Thomas SU           22.8\n",
      "University College SU  15.1\n",
      "W Middlesex SU         16.6\n",
      "Whipps Cross SU        11.2\n",
      "\n",
      "Unit occupancy(%)\n",
      "-----------------\n",
      "name                   base\n",
      "Barnet General SU       0.1\n",
      "Charing Cross SU        0.4\n",
      "Chelsea & Wminster SU   0.1\n",
      "Croydon SU              0.3\n",
      "Epsom SU                0.1\n",
      "Hillingdon SU           0.3\n",
      "Homerton SU             0.2\n",
      "Kingston SU             0.2\n",
      "King’s College SU       0.2\n",
      "Lewisham SU             0.5\n",
      "N Middlesex SU          0.3\n",
      "Newham General SU       0.1\n",
      "Northwick Park SU       0.2\n",
      "Princess Royal SU       0.2\n",
      "Queens Romford SU       0.2\n",
      "Royal Free SU           0.1\n",
      "Royal London SU         0.1\n",
      "St George’s SU          0.2\n",
      "St Helier SU            0.0\n",
      "St Thomas SU            0.2\n",
      "University College SU   0.1\n",
      "W Middlesex SU          0.2\n",
      "Whipps Cross SU         0.1\n"
     ]
    }
   ],
   "source": [
    "replications = 30\n",
    "replications = Replicator(scenarios, replications)\n",
    "replications.run_scenarios()"
   ]
  },
  {
   "cell_type": "markdown",
   "metadata": {},
   "source": [
    "## Show model default parameters\n",
    "\n",
    "Run the code below to model defaults (these are over-ridden by scenario values above)."
   ]
  },
  {
   "cell_type": "code",
   "execution_count": 4,
   "metadata": {},
   "outputs": [
    {
     "name": "stdout",
     "output_type": "stream",
     "text": [
      "    def __init__(self, *initial_data, **kwargs):\n",
      "        \"\"\"Default  parameters\"\"\"\n",
      "        # Simulation parameters\n",
      "        self.sim_warmup = 100\n",
      "        self.sim_duration = 365\n",
      "\n",
      "        # Scale admissions\n",
      "        self.scale_admissions = 1.0\n",
      "\n",
      "        # Patient flow\n",
      "        self.require_asu = 0.55\n",
      "        self.esd_use = 0.\n",
      "        self.esd_asu_los_reduction = 7.0\n",
      "        self.los_cv = 0.3\n",
      "        self.allow_non_preferred_asu = False\n",
      "\n",
      "        # Overwrite default values\n",
      "\n",
      "        for dictionary in initial_data:\n",
      "            for key in dictionary:\n",
      "                setattr(self, key, dictionary[key])\n",
      "        for key in kwargs:\n",
      "            setattr(self, key, kwargs[key])\n",
      "\n"
     ]
    }
   ],
   "source": [
    "print(inspect.getsource(Scenario.__init__))"
   ]
  }
 ],
 "metadata": {
  "kernelspec": {
   "display_name": "Python 3",
   "language": "python",
   "name": "python3"
  },
  "language_info": {
   "codemirror_mode": {
    "name": "ipython",
    "version": 3
   },
   "file_extension": ".py",
   "mimetype": "text/x-python",
   "name": "python",
   "nbconvert_exporter": "python",
   "pygments_lexer": "ipython3",
   "version": "3.8.5"
  }
 },
 "nbformat": 4,
 "nbformat_minor": 4
}

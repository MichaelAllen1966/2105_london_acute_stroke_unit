{
 "cells": [
  {
   "cell_type": "markdown",
   "metadata": {},
   "source": [
    "# London ASU model"
   ]
  },
  {
   "cell_type": "markdown",
   "metadata": {},
   "source": [
    "## Requirements and module imports\n",
    "\n",
    "Code in this simulation uses a standard Anaconda Python environment (https://www.anaconda.com/distribution/#download-section). Additionally this model uses SimPy3 (https://simpy.readthedocs.io/en/latest/). Install SimPy3 with `pip install 'simpy<4'`."
   ]
  },
  {
   "cell_type": "code",
   "execution_count": 1,
   "metadata": {},
   "outputs": [],
   "source": [
    "import simpy\n",
    "import inspect\n",
    "from sim_utils.replication import Replicator\n",
    "from sim_utils.parameters import Scenario"
   ]
  },
  {
   "cell_type": "markdown",
   "metadata": {},
   "source": [
    "## Set up scenarios\n",
    "\n",
    "Parameters defined in scenarios will overwrite default values in the parameters python file."
   ]
  },
  {
   "cell_type": "code",
   "execution_count": 2,
   "metadata": {},
   "outputs": [],
   "source": [
    "# Set up a dictionary to hold scenarios\n",
    "scenarios = {}\n",
    "\n",
    "# Baseline sceanrio (model defaults)\n",
    "scenarios['base'] = Scenario()"
   ]
  },
  {
   "cell_type": "markdown",
   "metadata": {},
   "source": [
    "## Run model"
   ]
  },
  {
   "cell_type": "code",
   "execution_count": 3,
   "metadata": {},
   "outputs": [
    {
     "name": "stdout",
     "output_type": "stream",
     "text": [
      "                                                                               \n",
      "Global results (mean)\n",
      "---------------------\n",
      "name                        base\n",
      "total_patients           9,523.0\n",
      "total_patients_asu       5,566.0\n",
      "total_patients_displaced     0.0\n",
      "total_patients_waited        0.0\n",
      "\n",
      "Unit admissions\n",
      "------------------\n",
      "Barnet General SU       164.4\n",
      "Charing Cross SU        333.9\n",
      "Chelsea & Wminster SU   185.3\n",
      "Croydon SU              264.5\n",
      "Hillingdon SU           283.0\n",
      "Homerton SU             171.3\n",
      "Kingston SU             190.6\n",
      "King’s College SU       183.7\n",
      "Lewisham SU             533.3\n",
      "N Middlesex SU          324.5\n",
      "Newham General SU       176.9\n",
      "Northwick Park SU       375.1\n",
      "Princess Royal SU       276.9\n",
      "Queens Romford SU       412.8\n",
      "Royal Free SU           294.4\n",
      "Royal London SU         111.4\n",
      "St George’s SU          154.1\n",
      "St Helier SU            197.5\n",
      "St Thomas SU            230.0\n",
      "University College SU   172.8\n",
      "W Middlesex SU          202.9\n",
      "Whipps Cross SU         208.4\n",
      "Name: mean, dtype: float64\n",
      "\n",
      "Unit occupancy (mean)\n",
      "-----------------\n",
      "name                   base\n",
      "Barnet General SU      14.4\n",
      "Charing Cross SU       24.5\n",
      "Chelsea & Wminster SU  13.9\n",
      "Croydon SU             19.6\n",
      "Hillingdon SU          21.6\n",
      "Homerton SU            13.8\n",
      "Kingston SU            13.9\n",
      "King’s College SU      14.7\n",
      "Lewisham SU            40.9\n",
      "N Middlesex SU         25.9\n",
      "Newham General SU      14.2\n",
      "Northwick Park SU      29.7\n",
      "Princess Royal SU      20.5\n",
      "Queens Romford SU      32.8\n",
      "Royal Free SU          22.8\n",
      "Royal London SU         8.8\n",
      "St George’s SU         10.6\n",
      "St Helier SU           15.8\n",
      "St Thomas SU           17.4\n",
      "University College SU  13.5\n",
      "W Middlesex SU         15.6\n",
      "Whipps Cross SU        15.4\n",
      "\n",
      "Unit occupancy (95th percentile)\n",
      "-----------------\n",
      "name                   base\n",
      "Barnet General SU      22.0\n",
      "Charing Cross SU       32.0\n",
      "Chelsea & Wminster SU  20.0\n",
      "Croydon SU             28.0\n",
      "Hillingdon SU          28.0\n",
      "Homerton SU            19.0\n",
      "Kingston SU            20.0\n",
      "King’s College SU      27.0\n",
      "Lewisham SU            52.0\n",
      "N Middlesex SU         34.0\n",
      "Newham General SU      19.0\n",
      "Northwick Park SU      43.0\n",
      "Princess Royal SU      27.0\n",
      "Queens Romford SU      41.0\n",
      "Royal Free SU          32.0\n",
      "Royal London SU        15.0\n",
      "St George’s SU         18.0\n",
      "St Helier SU           24.0\n",
      "St Thomas SU           25.0\n",
      "University College SU  20.0\n",
      "W Middlesex SU         24.0\n",
      "Whipps Cross SU        22.0\n"
     ]
    }
   ],
   "source": [
    "replications = 30\n",
    "replications = Replicator(scenarios, replications)\n",
    "replications.run_scenarios()"
   ]
  },
  {
   "cell_type": "markdown",
   "metadata": {},
   "source": [
    "## Show model default parameters\n",
    "\n",
    "Run the code below to model defaults (these are over-ridden by scenario values above)."
   ]
  },
  {
   "cell_type": "code",
   "execution_count": 4,
   "metadata": {},
   "outputs": [
    {
     "name": "stdout",
     "output_type": "stream",
     "text": [
      "    def __init__(self, *initial_data, **kwargs):\n",
      "        \"\"\"Default  parameters\"\"\"\n",
      "        # Simulation parameters\n",
      "        self.sim_warmup = 100\n",
      "        self.sim_duration = 365\n",
      "\n",
      "        # Scale admissions\n",
      "        self.scale_admissions = 1.0\n",
      "\n",
      "        # Patient flow\n",
      "        self.require_asu = 0.57\n",
      "        self.esd_use = 0.\n",
      "        self.esd_asu_los_reduction = 7.0\n",
      "        self.los_cv = 0.3\n",
      "        self.allow_non_preferred_asu = False\n",
      "\n",
      "        # Overwrite default values\n",
      "\n",
      "        for dictionary in initial_data:\n",
      "            for key in dictionary:\n",
      "                setattr(self, key, dictionary[key])\n",
      "        for key in kwargs:\n",
      "            setattr(self, key, kwargs[key])\n",
      "\n"
     ]
    }
   ],
   "source": [
    "print(inspect.getsource(Scenario.__init__))"
   ]
  }
 ],
 "metadata": {
  "kernelspec": {
   "display_name": "Python 3",
   "language": "python",
   "name": "python3"
  },
  "language_info": {
   "codemirror_mode": {
    "name": "ipython",
    "version": 3
   },
   "file_extension": ".py",
   "mimetype": "text/x-python",
   "name": "python",
   "nbconvert_exporter": "python",
   "pygments_lexer": "ipython3",
   "version": "3.7.7"
  }
 },
 "nbformat": 4,
 "nbformat_minor": 4
}

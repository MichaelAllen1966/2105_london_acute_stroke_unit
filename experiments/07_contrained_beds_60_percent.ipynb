{
 "cells": [
  {
   "cell_type": "markdown",
   "metadata": {},
   "source": [
    "# London ASU model"
   ]
  },
  {
   "cell_type": "markdown",
   "metadata": {},
   "source": [
    "## Requirements and module imports\n",
    "\n",
    "Code in this simulation uses a standard Anaconda Python environment (https://www.anaconda.com/distribution/#download-section). Additionally this model uses SimPy3 (https://simpy.readthedocs.io/en/latest/). Install SimPy3 with `pip install 'simpy<4'`."
   ]
  },
  {
   "cell_type": "code",
   "execution_count": 1,
   "metadata": {},
   "outputs": [],
   "source": [
    "import simpy\n",
    "import inspect\n",
    "from sim_utils.replication import Replicator\n",
    "from sim_utils.parameters import Scenario"
   ]
  },
  {
   "cell_type": "markdown",
   "metadata": {},
   "source": [
    "## Set up scenarios\n",
    "\n",
    "Parameters defined in scenarios will overwrite default values in the parameters python file."
   ]
  },
  {
   "cell_type": "code",
   "execution_count": 2,
   "metadata": {},
   "outputs": [],
   "source": [
    "# Set up a dictionary to hold scenarios\n",
    "scenarios = {}\n",
    "\n",
    "# Baseline sceanrio (model defaults)\n",
    "scenarios['constrained_beds'] = Scenario(\n",
    "    allow_non_preferred_asu = False)\n",
    "scenarios['constrained_beds_allow_redirect'] = Scenario(\n",
    "    allow_non_preferred_asu = True)"
   ]
  },
  {
   "cell_type": "markdown",
   "metadata": {},
   "source": [
    "## Run model"
   ]
  },
  {
   "cell_type": "code",
   "execution_count": 3,
   "metadata": {},
   "outputs": [
    {
     "name": "stdout",
     "output_type": "stream",
     "text": [
      "                                                                               \n",
      "Global results (mean)\n",
      "---------------------\n",
      "name                      constrained_beds  constrained_beds_allow_redirect\n",
      "total_patients                     9,523.0                          9,523.0\n",
      "total_patients_asu                 5,558.0                          5,534.0\n",
      "total_patients_displaced               0.0                             43.0\n",
      "total_patients_waited                 93.0                              0.0\n",
      "\n",
      "Average patients waiting for ASU\n",
      "--------------------------------\n",
      "name\n",
      "constrained_beds                  0.2\n",
      "constrained_beds_allow_redirect   0.0\n",
      "Name: asu_patients_unallocated, dtype: float64\n",
      "\n",
      "Average delay (days) for patients who had to wait\n",
      "---------------------------------------------------\n",
      "name\n",
      "constrained_beds                  2.3\n",
      "constrained_beds_allow_redirect   0.0\n",
      "Name: 0, dtype: float64\n",
      "\n",
      "Unit admissions\n",
      "------------------\n",
      "name                   constrained_beds  constrained_beds_allow_redirect\n",
      "Barnet General SU                 162.4                            160.6\n",
      "Charing Cross SU                  330.1                            334.7\n",
      "Chelsea & Wminster SU             189.4                            186.2\n",
      "Croydon SU                        265.2                            265.7\n",
      "Hillingdon SU                     283.4                            281.5\n",
      "Homerton SU                       169.2                            169.4\n",
      "Kingston SU                       197.5                            192.7\n",
      "King’s College SU                 179.9                            180.2\n",
      "Lewisham SU                       534.0                            526.3\n",
      "N Middlesex SU                    317.5                            323.3\n",
      "Newham General SU                 177.8                            177.7\n",
      "Northwick Park SU                 376.0                            379.6\n",
      "Princess Royal SU                 279.2                            282.6\n",
      "Queens Romford SU                 410.5                            409.1\n",
      "Royal Free SU                     289.3                            289.3\n",
      "Royal London SU                   112.0                            110.1\n",
      "St George’s SU                    156.8                            156.4\n",
      "St Helier SU                      200.1                            199.7\n",
      "St Thomas SU                      226.9                            228.6\n",
      "University College SU             172.2                            171.9\n",
      "W Middlesex SU                    202.1                            201.3\n",
      "Whipps Cross SU                   207.6                            210.1\n",
      "\n",
      "Unit occupancy (mean)\n",
      "-----------------\n",
      "name                   constrained_beds  constrained_beds_allow_redirect\n",
      "Barnet General SU                  11.9                             13.0\n",
      "Charing Cross SU                   25.8                             26.0\n",
      "Chelsea & Wminster SU              14.7                             13.8\n",
      "Croydon SU                         20.0                             20.9\n",
      "Hillingdon SU                      21.9                             22.0\n",
      "Homerton SU                        12.5                             12.9\n",
      "Kingston SU                        15.0                             14.8\n",
      "King’s College SU                  12.8                             13.6\n",
      "Lewisham SU                        40.5                             39.8\n",
      "N Middlesex SU                     23.6                             24.9\n",
      "Newham General SU                  13.0                             13.7\n",
      "Northwick Park SU                  28.4                             29.1\n",
      "Princess Royal SU                  21.7                             22.1\n",
      "Queens Romford SU                  30.3                             30.7\n",
      "Royal Free SU                      22.2                             22.1\n",
      "Royal London SU                     7.8                              8.0\n",
      "St George’s SU                     12.4                             12.2\n",
      "St Helier SU                       15.5                             15.4\n",
      "St Thomas SU                       17.5                             18.0\n",
      "University College SU              14.1                             13.7\n",
      "W Middlesex SU                     16.4                             15.4\n",
      "Whipps Cross SU                    15.7                             16.6\n",
      "\n",
      "Unit occupancy (95th percentile)\n",
      "-----------------\n",
      "name                   constrained_beds  constrained_beds_allow_redirect\n",
      "Barnet General SU                  17.0                             19.0\n",
      "Charing Cross SU                   35.0                             34.1\n",
      "Chelsea & Wminster SU              20.0                             21.0\n",
      "Croydon SU                         28.0                             26.0\n",
      "Hillingdon SU                      28.0                             30.0\n",
      "Homerton SU                        18.0                             18.0\n",
      "Kingston SU                        22.0                             21.0\n",
      "King’s College SU                  18.0                             20.0\n",
      "Lewisham SU                        50.0                             51.0\n",
      "N Middlesex SU                     31.0                             35.0\n",
      "Newham General SU                  20.0                             19.0\n",
      "Northwick Park SU                  38.0                             38.0\n",
      "Princess Royal SU                  29.0                             29.0\n",
      "Queens Romford SU                  38.1                             41.0\n",
      "Royal Free SU                      30.0                             31.0\n",
      "Royal London SU                    13.0                             12.0\n",
      "St George’s SU                     19.0                             17.1\n",
      "St Helier SU                       24.0                             22.0\n",
      "St Thomas SU                       23.0                             25.0\n",
      "University College SU              19.0                             19.0\n",
      "W Middlesex SU                     23.0                             22.0\n",
      "Whipps Cross SU                    23.0                             23.0\n"
     ]
    }
   ],
   "source": [
    "replications = 100\n",
    "replications = Replicator(scenarios, replications)\n",
    "replications.run_scenarios()"
   ]
  },
  {
   "cell_type": "markdown",
   "metadata": {},
   "source": [
    "## Show model default parameters\n",
    "\n",
    "Run the code below to model defaults (these are over-ridden by scenario values above)."
   ]
  },
  {
   "cell_type": "code",
   "execution_count": 4,
   "metadata": {},
   "outputs": [
    {
     "name": "stdout",
     "output_type": "stream",
     "text": [
      "    def __init__(self, *initial_data, **kwargs):\n",
      "        \"\"\"Default  parameters\"\"\"\n",
      "        # Simulation parameters\n",
      "        self.sim_warmup = 100\n",
      "        self.sim_duration = 365\n",
      "\n",
      "        # Scale admissions\n",
      "        self.scale_admissions = 1.0\n",
      "\n",
      "        # Patient flow\n",
      "        self.require_asu = 0.57\n",
      "        self.esd_use = 0.\n",
      "        self.esd_asu_los_reduction = 7.0\n",
      "        self.los_cv = 0.3\n",
      "        self.allow_non_preferred_asu = False\n",
      "\n",
      "        # Overwrite default values\n",
      "\n",
      "        for dictionary in initial_data:\n",
      "            for key in dictionary:\n",
      "                setattr(self, key, dictionary[key])\n",
      "        for key in kwargs:\n",
      "            setattr(self, key, kwargs[key])\n",
      "\n"
     ]
    }
   ],
   "source": [
    "print(inspect.getsource(Scenario.__init__))"
   ]
  }
 ],
 "metadata": {
  "kernelspec": {
   "display_name": "Python 3",
   "language": "python",
   "name": "python3"
  },
  "language_info": {
   "codemirror_mode": {
    "name": "ipython",
    "version": 3
   },
   "file_extension": ".py",
   "mimetype": "text/x-python",
   "name": "python",
   "nbconvert_exporter": "python",
   "pygments_lexer": "ipython3",
   "version": "3.8.8"
  }
 },
 "nbformat": 4,
 "nbformat_minor": 4
}

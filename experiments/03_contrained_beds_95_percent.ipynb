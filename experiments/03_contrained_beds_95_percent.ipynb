{
 "cells": [
  {
   "cell_type": "markdown",
   "metadata": {},
   "source": [
    "# London ASU model"
   ]
  },
  {
   "cell_type": "markdown",
   "metadata": {},
   "source": [
    "## Requirements and module imports\n",
    "\n",
    "Code in this simulation uses a standard Anaconda Python environment (https://www.anaconda.com/distribution/#download-section). Additionally this model uses SimPy3 (https://simpy.readthedocs.io/en/latest/). Install SimPy3 with `pip install 'simpy<4'`."
   ]
  },
  {
   "cell_type": "code",
   "execution_count": 1,
   "metadata": {},
   "outputs": [],
   "source": [
    "import simpy\n",
    "import inspect\n",
    "from sim_utils.replication import Replicator\n",
    "from sim_utils.parameters import Scenario"
   ]
  },
  {
   "cell_type": "markdown",
   "metadata": {},
   "source": [
    "## Set up scenarios\n",
    "\n",
    "Parameters defined in scenarios will overwrite default values in the parameters python file."
   ]
  },
  {
   "cell_type": "code",
   "execution_count": 2,
   "metadata": {},
   "outputs": [],
   "source": [
    "# Set up a dictionary to hold scenarios\n",
    "scenarios = {}\n",
    "\n",
    "# Baseline sceanrio (model defaults)\n",
    "scenarios['constrained_beds'] = Scenario(\n",
    "    allow_non_preferred_asu = False)\n",
    "scenarios['constrained_beds_allow_redirect'] = Scenario(\n",
    "    allow_non_preferred_asu = True)"
   ]
  },
  {
   "cell_type": "markdown",
   "metadata": {},
   "source": [
    "## Run model"
   ]
  },
  {
   "cell_type": "code",
   "execution_count": 3,
   "metadata": {},
   "outputs": [
    {
     "name": "stdout",
     "output_type": "stream",
     "text": [
      "                                                                               \n",
      "Global results (mean)\n",
      "---------------------\n",
      "name                      constrained_beds  constrained_beds_allow_redirect\n",
      "total_patients                     9,523.0                          9,523.0\n",
      "total_patients_asu                 5,549.0                          5,520.0\n",
      "total_patients_displaced               0.0                          2,510.0\n",
      "total_patients_waited              3,462.0                            179.0\n",
      "\n",
      "Average patients waiting for ASU\n",
      "--------------------------------\n",
      "name\n",
      "constrained_beds                  77.7\n",
      "constrained_beds_allow_redirect    0.1\n",
      "Name: asu_patients_unallocated, dtype: float64\n",
      "\n",
      "Average delay (days) for patients who had to wait\n",
      "---------------------------------------------------\n",
      "name\n",
      "constrained_beds                  8.9\n",
      "constrained_beds_allow_redirect   0.3\n",
      "Name: 0, dtype: float64\n",
      "\n",
      "Unit admissions\n",
      "------------------\n",
      "name                   constrained_beds  constrained_beds_allow_redirect\n",
      "Barnet General SU                 160.1                            156.4\n",
      "Charing Cross SU                  332.6                            327.1\n",
      "Chelsea & Wminster SU             186.6                            191.7\n",
      "Croydon SU                        266.4                            262.3\n",
      "Hillingdon SU                     280.0                            272.4\n",
      "Homerton SU                       165.0                            185.1\n",
      "Kingston SU                       187.5                            178.8\n",
      "King’s College SU                 183.8                            199.9\n",
      "Lewisham SU                       530.2                            532.0\n",
      "N Middlesex SU                    321.0                            335.6\n",
      "Newham General SU                 174.3                            182.6\n",
      "Northwick Park SU                 375.2                            367.1\n",
      "Princess Royal SU                 277.7                            268.6\n",
      "Queens Romford SU                 412.2                            399.5\n",
      "Royal Free SU                     283.9                            282.3\n",
      "Royal London SU                   112.2                            122.3\n",
      "St George’s SU                    155.5                            165.1\n",
      "St Helier SU                      197.6                            202.2\n",
      "St Thomas SU                      226.7                            231.2\n",
      "University College SU             169.4                            172.6\n",
      "W Middlesex SU                    199.3                            203.3\n",
      "Whipps Cross SU                   203.5                            210.2\n",
      "\n",
      "Unit occupancy (mean)\n",
      "-----------------\n",
      "name                   constrained_beds  constrained_beds_allow_redirect\n",
      "Barnet General SU                  11.9                             12.0\n",
      "Charing Cross SU                   25.8                             25.3\n",
      "Chelsea & Wminster SU              14.5                             14.9\n",
      "Croydon SU                         20.6                             20.1\n",
      "Hillingdon SU                      21.9                             20.9\n",
      "Homerton SU                        12.9                             14.2\n",
      "Kingston SU                        14.6                             13.7\n",
      "King’s College SU                  13.7                             15.4\n",
      "Lewisham SU                        40.6                             41.0\n",
      "N Middlesex SU                     25.0                             25.7\n",
      "Newham General SU                  13.5                             14.2\n",
      "Northwick Park SU                  28.7                             28.2\n",
      "Princess Royal SU                  21.7                             20.9\n",
      "Queens Romford SU                  31.6                             30.5\n",
      "Royal Free SU                      22.0                             21.8\n",
      "Royal London SU                     8.7                              9.2\n",
      "St George’s SU                     12.4                             12.9\n",
      "St Helier SU                       15.1                             15.4\n",
      "St Thomas SU                       17.2                             17.6\n",
      "University College SU              13.4                             13.3\n",
      "W Middlesex SU                     15.5                             15.9\n",
      "Whipps Cross SU                    15.6                             16.1\n",
      "\n",
      "Unit occupancy (95th percentile)\n",
      "-----------------\n",
      "name                   constrained_beds  constrained_beds_allow_redirect\n",
      "Barnet General SU                  13.0                             13.0\n",
      "Charing Cross SU                   27.0                             27.0\n",
      "Chelsea & Wminster SU              16.0                             16.0\n",
      "Croydon SU                         22.0                             22.0\n",
      "Hillingdon SU                      23.0                             23.0\n",
      "Homerton SU                        15.0                             15.0\n",
      "Kingston SU                        15.0                             15.0\n",
      "King’s College SU                  17.0                             17.0\n",
      "Lewisham SU                        44.0                             44.0\n",
      "N Middlesex SU                     27.0                             27.0\n",
      "Newham General SU                  15.0                             15.0\n",
      "Northwick Park SU                  30.0                             30.0\n",
      "Princess Royal SU                  23.0                             23.0\n",
      "Queens Romford SU                  34.0                             34.0\n",
      "Royal Free SU                      23.0                             23.0\n",
      "Royal London SU                    10.0                             10.0\n",
      "St George’s SU                     14.0                             14.0\n",
      "St Helier SU                       17.0                             17.0\n",
      "St Thomas SU                       19.0                             19.0\n",
      "University College SU              14.0                             14.0\n",
      "W Middlesex SU                     17.0                             17.0\n",
      "Whipps Cross SU                    17.0                             17.0\n"
     ]
    }
   ],
   "source": [
    "replications = 100\n",
    "replications = Replicator(scenarios, replications)\n",
    "replications.run_scenarios()"
   ]
  },
  {
   "cell_type": "markdown",
   "metadata": {},
   "source": [
    "## Show model default parameters\n",
    "\n",
    "Run the code below to model defaults (these are over-ridden by scenario values above)."
   ]
  },
  {
   "cell_type": "code",
   "execution_count": 4,
   "metadata": {},
   "outputs": [
    {
     "name": "stdout",
     "output_type": "stream",
     "text": [
      "    def __init__(self, *initial_data, **kwargs):\n",
      "        \"\"\"Default  parameters\"\"\"\n",
      "        # Simulation parameters\n",
      "        self.sim_warmup = 100\n",
      "        self.sim_duration = 365\n",
      "\n",
      "        # Scale admissions\n",
      "        self.scale_admissions = 1.0\n",
      "\n",
      "        # Patient flow\n",
      "        self.require_asu = 0.57\n",
      "        self.esd_use = 0.\n",
      "        self.esd_asu_los_reduction = 7.0\n",
      "        self.los_cv = 0.3\n",
      "        self.allow_non_preferred_asu = False\n",
      "\n",
      "        # Overwrite default values\n",
      "\n",
      "        for dictionary in initial_data:\n",
      "            for key in dictionary:\n",
      "                setattr(self, key, dictionary[key])\n",
      "        for key in kwargs:\n",
      "            setattr(self, key, kwargs[key])\n",
      "\n"
     ]
    }
   ],
   "source": [
    "print(inspect.getsource(Scenario.__init__))"
   ]
  }
 ],
 "metadata": {
  "kernelspec": {
   "display_name": "Python 3",
   "language": "python",
   "name": "python3"
  },
  "language_info": {
   "codemirror_mode": {
    "name": "ipython",
    "version": 3
   },
   "file_extension": ".py",
   "mimetype": "text/x-python",
   "name": "python",
   "nbconvert_exporter": "python",
   "pygments_lexer": "ipython3",
   "version": "3.8.8"
  }
 },
 "nbformat": 4,
 "nbformat_minor": 4
}

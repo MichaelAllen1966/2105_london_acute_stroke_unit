{
 "cells": [
  {
   "cell_type": "markdown",
   "metadata": {},
   "source": [
    "# London ASU model"
   ]
  },
  {
   "cell_type": "markdown",
   "metadata": {},
   "source": [
    "## Requirements and module imports\n",
    "\n",
    "Code in this simulation uses a standard Anaconda Python environment (https://www.anaconda.com/distribution/#download-section). Additionally this model uses SimPy3 (https://simpy.readthedocs.io/en/latest/). Install SimPy3 with `pip install 'simpy<4'`."
   ]
  },
  {
   "cell_type": "code",
   "execution_count": 1,
   "metadata": {},
   "outputs": [],
   "source": [
    "import simpy\n",
    "import inspect\n",
    "from sim_utils.replication import Replicator\n",
    "from sim_utils.parameters import Scenario"
   ]
  },
  {
   "cell_type": "markdown",
   "metadata": {},
   "source": [
    "## Set up scenarios\n",
    "\n",
    "Parameters defined in scenarios will overwrite default values in the parameters python file."
   ]
  },
  {
   "cell_type": "code",
   "execution_count": 2,
   "metadata": {},
   "outputs": [],
   "source": [
    "# Set up a dictionary to hold scenarios\n",
    "scenarios = {}\n",
    "\n",
    "# Baseline sceanrio (model defaults)\n",
    "scenarios['constrained_beds'] = Scenario(\n",
    "    allow_non_preferred_asu = False)\n",
    "scenarios['constrained_beds_allow_redirect'] = Scenario(\n",
    "    allow_non_preferred_asu = True)"
   ]
  },
  {
   "cell_type": "markdown",
   "metadata": {},
   "source": [
    "## Run model"
   ]
  },
  {
   "cell_type": "code",
   "execution_count": 3,
   "metadata": {},
   "outputs": [
    {
     "name": "stdout",
     "output_type": "stream",
     "text": [
      "                                                                               \n",
      "Global results (mean)\n",
      "---------------------\n",
      "name                      constrained_beds  constrained_beds_allow_redirect\n",
      "total_patients                     9,523.0                          9,523.0\n",
      "total_patients_asu                 5,516.0                          5,527.0\n",
      "total_patients_displaced               0.0                              6.0\n",
      "total_patients_waited                 30.0                              0.0\n",
      "\n",
      "Average patients waiting for ASU\n",
      "--------------------------------\n",
      "name\n",
      "constrained_beds                  0.0\n",
      "constrained_beds_allow_redirect   0.0\n",
      "Name: asu_patients_unallocated, dtype: float64\n",
      "\n",
      "Average delay (days) for patients who had to wait\n",
      "---------------------------------------------------\n",
      "name\n",
      "constrained_beds                  0.8\n",
      "constrained_beds_allow_redirect   0.0\n",
      "Name: 0, dtype: float64\n",
      "\n",
      "Unit admissions\n",
      "------------------\n",
      "name                   constrained_beds  constrained_beds_allow_redirect\n",
      "Barnet General SU                 161.9                            163.1\n",
      "Charing Cross SU                  331.2                            331.4\n",
      "Chelsea & Wminster SU             186.7                            186.6\n",
      "Croydon SU                        264.9                            266.5\n",
      "Hillingdon SU                     282.9                            282.3\n",
      "Homerton SU                       168.7                            168.5\n",
      "Kingston SU                       196.0                            195.8\n",
      "King’s College SU                 180.6                            185.1\n",
      "Lewisham SU                       536.3                            534.5\n",
      "N Middlesex SU                    319.3                            320.5\n",
      "Newham General SU                 178.6                            176.1\n",
      "Northwick Park SU                 374.6                            376.1\n",
      "Princess Royal SU                 281.9                            279.9\n",
      "Queens Romford SU                 409.4                            408.4\n",
      "Royal Free SU                     291.7                            290.7\n",
      "Royal London SU                   110.7                            110.5\n",
      "St George’s SU                    155.8                            156.4\n",
      "St Helier SU                      202.2                            198.1\n",
      "St Thomas SU                      226.7                            224.1\n",
      "University College SU             171.9                            173.8\n",
      "W Middlesex SU                    204.3                            201.3\n",
      "Whipps Cross SU                   206.3                            208.9\n",
      "\n",
      "Unit occupancy (mean)\n",
      "-----------------\n",
      "name                   constrained_beds  constrained_beds_allow_redirect\n",
      "Barnet General SU                  11.7                             12.4\n",
      "Charing Cross SU                   25.9                             25.8\n",
      "Chelsea & Wminster SU              14.6                             14.1\n",
      "Croydon SU                         20.6                             20.3\n",
      "Hillingdon SU                      21.6                             21.3\n",
      "Homerton SU                        12.8                             13.2\n",
      "Kingston SU                        14.6                             14.8\n",
      "King’s College SU                  13.4                             14.4\n",
      "Lewisham SU                        42.1                             40.7\n",
      "N Middlesex SU                     24.8                             24.8\n",
      "Newham General SU                  13.7                             13.3\n",
      "Northwick Park SU                  29.8                             28.3\n",
      "Princess Royal SU                  21.4                             21.8\n",
      "Queens Romford SU                  31.8                             32.1\n",
      "Royal Free SU                      21.5                             23.0\n",
      "Royal London SU                     8.4                              8.7\n",
      "St George’s SU                     12.4                             12.3\n",
      "St Helier SU                       15.2                             15.7\n",
      "St Thomas SU                       17.0                             17.4\n",
      "University College SU              13.7                             13.1\n",
      "W Middlesex SU                     15.5                             15.5\n",
      "Whipps Cross SU                    15.6                             15.7\n",
      "\n",
      "Unit occupancy (95th percentile)\n",
      "-----------------\n",
      "name                   constrained_beds  constrained_beds_allow_redirect\n",
      "Barnet General SU                  18.0                             18.0\n",
      "Charing Cross SU                   33.1                             33.0\n",
      "Chelsea & Wminster SU              21.0                             20.0\n",
      "Croydon SU                         29.0                             27.0\n",
      "Hillingdon SU                      29.0                             29.0\n",
      "Homerton SU                        18.0                             19.0\n",
      "Kingston SU                        21.0                             22.0\n",
      "King’s College SU                  20.0                             21.0\n",
      "Lewisham SU                        50.0                             51.0\n",
      "N Middlesex SU                     33.0                             34.0\n",
      "Newham General SU                  20.0                             18.0\n",
      "Northwick Park SU                  38.0                             36.0\n",
      "Princess Royal SU                  29.0                             29.0\n",
      "Queens Romford SU                  42.0                             41.0\n",
      "Royal Free SU                      30.0                             30.0\n",
      "Royal London SU                    12.0                             12.0\n",
      "St George’s SU                     18.0                             20.0\n",
      "St Helier SU                       21.0                             21.0\n",
      "St Thomas SU                       25.0                             25.0\n",
      "University College SU              19.0                             20.0\n",
      "W Middlesex SU                     20.0                             22.0\n",
      "Whipps Cross SU                    22.0                             22.0\n"
     ]
    }
   ],
   "source": [
    "replications = 100\n",
    "replications = Replicator(scenarios, replications)\n",
    "replications.run_scenarios()"
   ]
  },
  {
   "cell_type": "markdown",
   "metadata": {},
   "source": [
    "## Show model default parameters\n",
    "\n",
    "Run the code below to model defaults (these are over-ridden by scenario values above)."
   ]
  },
  {
   "cell_type": "code",
   "execution_count": 4,
   "metadata": {},
   "outputs": [
    {
     "name": "stdout",
     "output_type": "stream",
     "text": [
      "    def __init__(self, *initial_data, **kwargs):\n",
      "        \"\"\"Default  parameters\"\"\"\n",
      "        # Simulation parameters\n",
      "        self.sim_warmup = 100\n",
      "        self.sim_duration = 365\n",
      "\n",
      "        # Scale admissions\n",
      "        self.scale_admissions = 1.0\n",
      "\n",
      "        # Patient flow\n",
      "        self.require_asu = 0.57\n",
      "        self.esd_use = 0.\n",
      "        self.esd_asu_los_reduction = 7.0\n",
      "        self.los_cv = 0.3\n",
      "        self.allow_non_preferred_asu = False\n",
      "\n",
      "        # Overwrite default values\n",
      "\n",
      "        for dictionary in initial_data:\n",
      "            for key in dictionary:\n",
      "                setattr(self, key, dictionary[key])\n",
      "        for key in kwargs:\n",
      "            setattr(self, key, kwargs[key])\n",
      "\n"
     ]
    }
   ],
   "source": [
    "print(inspect.getsource(Scenario.__init__))"
   ]
  }
 ],
 "metadata": {
  "kernelspec": {
   "display_name": "Python 3",
   "language": "python",
   "name": "python3"
  },
  "language_info": {
   "codemirror_mode": {
    "name": "ipython",
    "version": 3
   },
   "file_extension": ".py",
   "mimetype": "text/x-python",
   "name": "python",
   "nbconvert_exporter": "python",
   "pygments_lexer": "ipython3",
   "version": "3.8.8"
  }
 },
 "nbformat": 4,
 "nbformat_minor": 4
}

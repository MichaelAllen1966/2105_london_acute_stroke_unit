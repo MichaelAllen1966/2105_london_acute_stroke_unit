{
 "cells": [
  {
   "cell_type": "markdown",
   "metadata": {},
   "source": [
    "# London ASU model"
   ]
  },
  {
   "cell_type": "markdown",
   "metadata": {},
   "source": [
    "## Requirements and module imports\n",
    "\n",
    "Code in this simulation uses a standard Anaconda Python environment (https://www.anaconda.com/distribution/#download-section). Additionally this model uses SimPy3 (https://simpy.readthedocs.io/en/latest/). Install SimPy3 with `pip install 'simpy<4'`."
   ]
  },
  {
   "cell_type": "code",
   "execution_count": 1,
   "metadata": {},
   "outputs": [],
   "source": [
    "import simpy\n",
    "import inspect\n",
    "from sim_utils.replication import Replicator\n",
    "from sim_utils.parameters import Scenario"
   ]
  },
  {
   "cell_type": "markdown",
   "metadata": {},
   "source": [
    "## Set up scenarios\n",
    "\n",
    "Parameters defined in scenarios will overwrite default values in the parameters python file."
   ]
  },
  {
   "cell_type": "code",
   "execution_count": 2,
   "metadata": {},
   "outputs": [],
   "source": [
    "# Set up a dictionary to hold scenarios\n",
    "scenarios = {}\n",
    "\n",
    "# Baseline sceanrio (model defaults)\n",
    "scenarios['constrained_beds'] = Scenario(\n",
    "    allow_non_preferred_asu = False)"
   ]
  },
  {
   "cell_type": "markdown",
   "metadata": {},
   "source": [
    "## Run model"
   ]
  },
  {
   "cell_type": "code",
   "execution_count": 3,
   "metadata": {},
   "outputs": [
    {
     "name": "stdout",
     "output_type": "stream",
     "text": [
      "                                                                               \n",
      "Global results (mean)\n",
      "---------------------\n",
      "name                      constrained_beds\n",
      "total_patients                     9,523.0\n",
      "total_patients_asu                 5,524.0\n",
      "total_patients_displaced               0.0\n",
      "total_patients_waited                415.0\n",
      "\n",
      "Average patients waiting for ASU\n",
      "--------------------------------\n",
      "name\n",
      "constrained_beds   1.3\n",
      "Name: asu_patients_unallocated, dtype: float64\n",
      "\n",
      "Average delay (days) for patients who had to wait\n",
      "---------------------------------------------------\n",
      "name\n",
      "constrained_beds   1.7\n",
      "Name: 0, dtype: float64\n",
      "\n",
      "Unit admissions\n",
      "------------------\n",
      "name               constrained_beds\n",
      "Lewisham SU                 1,013.0\n",
      "N Middlesex SU              1,063.3\n",
      "Newham General SU           1,024.3\n",
      "Northwick Park SU           1,387.1\n",
      "St Helier SU                  963.6\n",
      "\n",
      "Unit occupancy (mean)\n",
      "-----------------\n",
      "name               constrained_beds\n",
      "Lewisham SU                    76.7\n",
      "N Middlesex SU                 83.2\n",
      "Newham General SU              80.1\n",
      "Northwick Park SU             104.4\n",
      "St Helier SU                   73.2\n",
      "\n",
      "Unit occupancy (95th percentile)\n",
      "-----------------\n",
      "name               constrained_beds\n",
      "Lewisham SU                    89.0\n",
      "N Middlesex SU                 97.0\n",
      "Newham General SU              96.0\n",
      "Northwick Park SU             123.0\n",
      "St Helier SU                   86.0\n"
     ]
    }
   ],
   "source": [
    "replications = 30\n",
    "replications = Replicator(scenarios, replications)\n",
    "replications.run_scenarios()"
   ]
  },
  {
   "cell_type": "markdown",
   "metadata": {},
   "source": [
    "## Show model default parameters\n",
    "\n",
    "Run the code below to model defaults (these are over-ridden by scenario values above)."
   ]
  },
  {
   "cell_type": "code",
   "execution_count": 4,
   "metadata": {},
   "outputs": [
    {
     "name": "stdout",
     "output_type": "stream",
     "text": [
      "    def __init__(self, *initial_data, **kwargs):\n",
      "        \"\"\"Default  parameters\"\"\"\n",
      "        # Simulation parameters\n",
      "        self.sim_warmup = 100\n",
      "        self.sim_duration = 365\n",
      "\n",
      "        # Scale admissions\n",
      "        self.scale_admissions = 1.0\n",
      "\n",
      "        # Patient flow\n",
      "        self.require_asu = 0.57\n",
      "        self.esd_use = 0.\n",
      "        self.esd_asu_los_reduction = 7.0\n",
      "        self.los_cv = 0.3\n",
      "        self.allow_non_preferred_asu = False\n",
      "        self.restrict_non_preferred_to_regions = True\n",
      "        self.overwrite_preferred_unit_with_closest = True\n",
      "\n",
      "        # Overwrite default values\n",
      "        for dictionary in initial_data:\n",
      "            for key in dictionary:\n",
      "                setattr(self, key, dictionary[key])\n",
      "        for key in kwargs:\n",
      "            setattr(self, key, kwargs[key])\n",
      "\n"
     ]
    }
   ],
   "source": [
    "print(inspect.getsource(Scenario.__init__))"
   ]
  }
 ],
 "metadata": {
  "interpreter": {
   "hash": "857b844b699a7ff64418061509044794995a939b56c4248a66fa2197e390082a"
  },
  "kernelspec": {
   "display_name": "Python 3",
   "language": "python",
   "name": "python3"
  },
  "language_info": {
   "codemirror_mode": {
    "name": "ipython",
    "version": 3
   },
   "file_extension": ".py",
   "mimetype": "text/x-python",
   "name": "python",
   "nbconvert_exporter": "python",
   "pygments_lexer": "ipython3",
   "version": "3.7.7"
  }
 },
 "nbformat": 4,
 "nbformat_minor": 4
}

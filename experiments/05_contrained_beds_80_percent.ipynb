{
 "cells": [
  {
   "cell_type": "markdown",
   "metadata": {},
   "source": [
    "# London ASU model"
   ]
  },
  {
   "cell_type": "markdown",
   "metadata": {},
   "source": [
    "## Requirements and module imports\n",
    "\n",
    "Code in this simulation uses a standard Anaconda Python environment (https://www.anaconda.com/distribution/#download-section). Additionally this model uses SimPy3 (https://simpy.readthedocs.io/en/latest/). Install SimPy3 with `pip install 'simpy<4'`."
   ]
  },
  {
   "cell_type": "code",
   "execution_count": 1,
   "metadata": {},
   "outputs": [],
   "source": [
    "import simpy\n",
    "import inspect\n",
    "from sim_utils.replication import Replicator\n",
    "from sim_utils.parameters import Scenario"
   ]
  },
  {
   "cell_type": "markdown",
   "metadata": {},
   "source": [
    "## Set up scenarios\n",
    "\n",
    "Parameters defined in scenarios will overwrite default values in the parameters python file."
   ]
  },
  {
   "cell_type": "code",
   "execution_count": 2,
   "metadata": {},
   "outputs": [],
   "source": [
    "# Set up a dictionary to hold scenarios\n",
    "scenarios = {}\n",
    "\n",
    "# Baseline sceanrio (model defaults)\n",
    "scenarios['constrained_beds'] = Scenario(\n",
    "    allow_non_preferred_asu = False)\n",
    "scenarios['constrained_beds_allow_redirect'] = Scenario(\n",
    "    allow_non_preferred_asu = True)"
   ]
  },
  {
   "cell_type": "markdown",
   "metadata": {},
   "source": [
    "## Run model"
   ]
  },
  {
   "cell_type": "code",
   "execution_count": 3,
   "metadata": {},
   "outputs": [
    {
     "name": "stdout",
     "output_type": "stream",
     "text": [
      "                                                                               \n",
      "Global results (mean)\n",
      "---------------------\n",
      "name                      constrained_beds  constrained_beds_allow_redirect\n",
      "total_patients                     9,523.0                          9,523.0\n",
      "total_patients_asu                 5,562.0                          5,561.0\n",
      "total_patients_displaced               0.0                            552.0\n",
      "total_patients_waited              1,215.0                              0.0\n",
      "\n",
      "Average patients waiting for ASU\n",
      "--------------------------------\n",
      "name\n",
      "constrained_beds                  10.7\n",
      "constrained_beds_allow_redirect    0.0\n",
      "Name: asu_patients_unallocated, dtype: float64\n",
      "\n",
      "Average delay (days) for patients who had to wait\n",
      "---------------------------------------------------\n",
      "name\n",
      "constrained_beds                  4.4\n",
      "constrained_beds_allow_redirect   0.0\n",
      "Name: 0, dtype: float64\n",
      "\n",
      "Unit admissions\n",
      "------------------\n",
      "name                   constrained_beds  constrained_beds_allow_redirect\n",
      "Barnet General SU                 164.1                            153.8\n",
      "Charing Cross SU                  337.4                            333.5\n",
      "Chelsea & Wminster SU             186.2                            180.0\n",
      "Croydon SU                        263.8                            264.3\n",
      "Hillingdon SU                     281.9                            277.5\n",
      "Homerton SU                       169.0                            175.2\n",
      "Kingston SU                       193.0                            186.0\n",
      "King’s College SU                 182.2                            184.8\n",
      "Lewisham SU                       532.2                            538.9\n",
      "N Middlesex SU                    321.9                            339.3\n",
      "Newham General SU                 179.1                            174.8\n",
      "Northwick Park SU                 375.5                            382.6\n",
      "Princess Royal SU                 279.4                            271.8\n",
      "Queens Romford SU                 409.8                            406.1\n",
      "Royal Free SU                     288.5                            285.1\n",
      "Royal London SU                   111.5                            116.0\n",
      "St George’s SU                    156.3                            157.8\n",
      "St Helier SU                      198.8                            203.3\n",
      "St Thomas SU                      230.2                            223.7\n",
      "University College SU             173.3                            171.8\n",
      "W Middlesex SU                    202.6                            202.7\n",
      "Whipps Cross SU                   205.9                            219.7\n",
      "\n",
      "Unit occupancy (mean)\n",
      "-----------------\n",
      "name                   constrained_beds  constrained_beds_allow_redirect\n",
      "Barnet General SU                  12.8                             11.5\n",
      "Charing Cross SU                   26.1                             25.4\n",
      "Chelsea & Wminster SU              14.6                             14.1\n",
      "Croydon SU                         20.7                             20.2\n",
      "Hillingdon SU                      20.9                             21.3\n",
      "Homerton SU                        13.1                             13.5\n",
      "Kingston SU                        15.0                             14.1\n",
      "King’s College SU                  13.9                             14.0\n",
      "Lewisham SU                        40.5                             41.2\n",
      "N Middlesex SU                     25.0                             26.1\n",
      "Newham General SU                  13.5                             13.8\n",
      "Northwick Park SU                  29.5                             28.4\n",
      "Princess Royal SU                  21.3                             20.6\n",
      "Queens Romford SU                  31.4                             31.9\n",
      "Royal Free SU                      22.1                             22.2\n",
      "Royal London SU                     8.8                              9.0\n",
      "St George’s SU                     11.3                             12.1\n",
      "St Helier SU                       15.3                             15.3\n",
      "St Thomas SU                       17.4                             17.3\n",
      "University College SU              13.5                             13.5\n",
      "W Middlesex SU                     15.6                             15.6\n",
      "Whipps Cross SU                    15.4                             17.4\n",
      "\n",
      "Unit occupancy (95th percentile)\n",
      "-----------------\n",
      "name                   constrained_beds  constrained_beds_allow_redirect\n",
      "Barnet General SU                  15.0                             15.0\n",
      "Charing Cross SU                   32.0                             31.0\n",
      "Chelsea & Wminster SU              18.0                             18.0\n",
      "Croydon SU                         26.0                             25.0\n",
      "Hillingdon SU                      27.0                             27.0\n",
      "Homerton SU                        17.0                             17.0\n",
      "Kingston SU                        18.0                             18.0\n",
      "King’s College SU                  20.0                             19.0\n",
      "Lewisham SU                        50.0                             50.0\n",
      "N Middlesex SU                     32.0                             32.0\n",
      "Newham General SU                  17.0                             17.0\n",
      "Northwick Park SU                  36.0                             34.0\n",
      "Princess Royal SU                  27.0                             26.0\n",
      "Queens Romford SU                  40.0                             38.0\n",
      "Royal Free SU                      27.0                             27.0\n",
      "Royal London SU                    12.0                             12.0\n",
      "St George’s SU                     16.0                             16.0\n",
      "St Helier SU                       20.0                             20.0\n",
      "St Thomas SU                       22.0                             22.0\n",
      "University College SU              17.0                             17.0\n",
      "W Middlesex SU                     20.0                             20.0\n",
      "Whipps Cross SU                    21.0                             21.0\n"
     ]
    }
   ],
   "source": [
    "replications = 100\n",
    "replications = Replicator(scenarios, replications)\n",
    "replications.run_scenarios()"
   ]
  },
  {
   "cell_type": "markdown",
   "metadata": {},
   "source": [
    "## Show model default parameters\n",
    "\n",
    "Run the code below to model defaults (these are over-ridden by scenario values above)."
   ]
  },
  {
   "cell_type": "code",
   "execution_count": 4,
   "metadata": {},
   "outputs": [
    {
     "name": "stdout",
     "output_type": "stream",
     "text": [
      "    def __init__(self, *initial_data, **kwargs):\n",
      "        \"\"\"Default  parameters\"\"\"\n",
      "        # Simulation parameters\n",
      "        self.sim_warmup = 100\n",
      "        self.sim_duration = 365\n",
      "\n",
      "        # Scale admissions\n",
      "        self.scale_admissions = 1.0\n",
      "\n",
      "        # Patient flow\n",
      "        self.require_asu = 0.57\n",
      "        self.esd_use = 0.\n",
      "        self.esd_asu_los_reduction = 7.0\n",
      "        self.los_cv = 0.3\n",
      "        self.allow_non_preferred_asu = False\n",
      "\n",
      "        # Overwrite default values\n",
      "\n",
      "        for dictionary in initial_data:\n",
      "            for key in dictionary:\n",
      "                setattr(self, key, dictionary[key])\n",
      "        for key in kwargs:\n",
      "            setattr(self, key, kwargs[key])\n",
      "\n"
     ]
    }
   ],
   "source": [
    "print(inspect.getsource(Scenario.__init__))"
   ]
  }
 ],
 "metadata": {
  "kernelspec": {
   "display_name": "Python 3",
   "language": "python",
   "name": "python3"
  },
  "language_info": {
   "codemirror_mode": {
    "name": "ipython",
    "version": 3
   },
   "file_extension": ".py",
   "mimetype": "text/x-python",
   "name": "python",
   "nbconvert_exporter": "python",
   "pygments_lexer": "ipython3",
   "version": "3.8.8"
  }
 },
 "nbformat": 4,
 "nbformat_minor": 4
}

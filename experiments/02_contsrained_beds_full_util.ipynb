{
 "cells": [
  {
   "cell_type": "markdown",
   "metadata": {},
   "source": [
    "# London ASU model"
   ]
  },
  {
   "cell_type": "markdown",
   "metadata": {},
   "source": [
    "## Requirements and module imports\n",
    "\n",
    "Code in this simulation uses a standard Anaconda Python environment (https://www.anaconda.com/distribution/#download-section). Additionally this model uses SimPy3 (https://simpy.readthedocs.io/en/latest/). Install SimPy3 with `pip install 'simpy<4'`."
   ]
  },
  {
   "cell_type": "code",
   "execution_count": 1,
   "metadata": {},
   "outputs": [],
   "source": [
    "import simpy\n",
    "import inspect\n",
    "from sim_utils.replication import Replicator\n",
    "from sim_utils.parameters import Scenario"
   ]
  },
  {
   "cell_type": "markdown",
   "metadata": {},
   "source": [
    "## Set up scenarios\n",
    "\n",
    "Parameters defined in scenarios will overwrite default values in the parameters python file."
   ]
  },
  {
   "cell_type": "code",
   "execution_count": 2,
   "metadata": {},
   "outputs": [],
   "source": [
    "# Set up a dictionary to hold scenarios\n",
    "scenarios = {}\n",
    "\n",
    "# Baseline sceanrio (model defaults)\n",
    "scenarios['constrained_beds'] = Scenario(\n",
    "    allow_non_preferred_asu = False)\n",
    "scenarios['constrained_beds_allow_redirect'] = Scenario(\n",
    "    allow_non_preferred_asu = True)"
   ]
  },
  {
   "cell_type": "markdown",
   "metadata": {},
   "source": [
    "## Run model"
   ]
  },
  {
   "cell_type": "code",
   "execution_count": 3,
   "metadata": {},
   "outputs": [
    {
     "name": "stdout",
     "output_type": "stream",
     "text": [
      "                                                                               \n",
      "Global results (mean)\n",
      "---------------------\n",
      "name                      constrained_beds  constrained_beds_allow_redirect\n",
      "total_patients                     9,523.0                          9,523.0\n",
      "total_patients_asu                 5,554.0                          5,541.0\n",
      "total_patients_displaced               0.0                          4,757.0\n",
      "total_patients_waited              4,292.0                          3,180.0\n",
      "\n",
      "Average patients waiting for ASU\n",
      "--------------------------------\n",
      "name\n",
      "constrained_beds                  139.0\n",
      "constrained_beds_allow_redirect     4.2\n",
      "Name: asu_patients_unallocated, dtype: float64\n",
      "\n",
      "Average delay (days) for patients who had to wait\n",
      "---------------------------------------------------\n",
      "name\n",
      "constrained_beds                  12.1\n",
      "constrained_beds_allow_redirect    1.1\n",
      "Name: 0, dtype: float64\n",
      "\n",
      "Unit admissions\n",
      "------------------\n",
      "name                   constrained_beds  constrained_beds_allow_redirect\n",
      "Barnet General SU                 158.8                            164.5\n",
      "Charing Cross SU                  326.8                            330.9\n",
      "Chelsea & Wminster SU             182.9                            191.4\n",
      "Croydon SU                        255.4                            253.1\n",
      "Hillingdon SU                     273.6                            276.9\n",
      "Homerton SU                       162.0                            166.3\n",
      "Kingston SU                       186.8                            189.6\n",
      "King’s College SU                 179.2                            190.2\n",
      "Lewisham SU                       528.0                            533.8\n",
      "N Middlesex SU                    313.5                            319.9\n",
      "Newham General SU                 176.8                            191.2\n",
      "Northwick Park SU                 375.4                            380.6\n",
      "Princess Royal SU                 274.1                            275.5\n",
      "Queens Romford SU                 402.8                            402.5\n",
      "Royal Free SU                     283.8                            293.4\n",
      "Royal London SU                   107.7                            114.9\n",
      "St George’s SU                    148.9                            152.3\n",
      "St Helier SU                      194.4                            202.3\n",
      "St Thomas SU                      223.3                            229.6\n",
      "University College SU             168.9                            179.0\n",
      "W Middlesex SU                    197.6                            202.3\n",
      "Whipps Cross SU                   200.5                            205.2\n",
      "\n",
      "Unit occupancy (mean)\n",
      "-----------------\n",
      "name                   constrained_beds  constrained_beds_allow_redirect\n",
      "Barnet General SU                  12.3                             12.5\n",
      "Charing Cross SU                   25.3                             25.4\n",
      "Chelsea & Wminster SU              14.1                             14.5\n",
      "Croydon SU                         19.8                             19.3\n",
      "Hillingdon SU                      21.4                             21.5\n",
      "Homerton SU                        12.4                             12.9\n",
      "Kingston SU                        14.5                             14.7\n",
      "King’s College SU                  13.7                             14.6\n",
      "Lewisham SU                        40.7                             41.0\n",
      "N Middlesex SU                     24.4                             24.6\n",
      "Newham General SU                  13.5                             14.6\n",
      "Northwick Park SU                  29.0                             29.2\n",
      "Princess Royal SU                  21.0                             21.0\n",
      "Queens Romford SU                  31.3                             30.9\n",
      "Royal Free SU                      22.2                             22.6\n",
      "Royal London SU                     8.3                              8.9\n",
      "St George’s SU                     11.7                             11.7\n",
      "St Helier SU                       15.3                             15.6\n",
      "St Thomas SU                       17.2                             17.7\n",
      "University College SU              13.1                             13.7\n",
      "W Middlesex SU                     15.6                             15.5\n",
      "Whipps Cross SU                    15.6                             15.8\n",
      "\n",
      "Unit occupancy (95th percentile)\n",
      "-----------------\n",
      "name                   constrained_beds  constrained_beds_allow_redirect\n",
      "Barnet General SU                  13.0                             13.0\n",
      "Charing Cross SU                   26.0                             26.0\n",
      "Chelsea & Wminster SU              15.0                             15.0\n",
      "Croydon SU                         20.0                             20.0\n",
      "Hillingdon SU                      22.0                             22.0\n",
      "Homerton SU                        13.0                             13.0\n",
      "Kingston SU                        15.0                             15.0\n",
      "King’s College SU                  15.0                             15.0\n",
      "Lewisham SU                        42.0                             42.0\n",
      "N Middlesex SU                     25.0                             25.0\n",
      "Newham General SU                  15.0                             15.0\n",
      "Northwick Park SU                  30.0                             30.0\n",
      "Princess Royal SU                  22.0                             22.0\n",
      "Queens Romford SU                  32.0                             32.0\n",
      "Royal Free SU                      23.0                             23.0\n",
      "Royal London SU                     9.0                              9.0\n",
      "St George’s SU                     12.0                             12.0\n",
      "St Helier SU                       16.0                             16.0\n",
      "St Thomas SU                       18.0                             18.0\n",
      "University College SU              14.0                             14.0\n",
      "W Middlesex SU                     16.0                             16.0\n",
      "Whipps Cross SU                    16.0                             16.0\n"
     ]
    },
    {
     "ename": "AttributeError",
     "evalue": "'Replicator' object has no attribute 'summary_unit_admissions_pivot'",
     "output_type": "error",
     "traceback": [
      "\u001b[0;31m---------------------------------------------------------------------------\u001b[0m",
      "\u001b[0;31mAttributeError\u001b[0m                            Traceback (most recent call last)",
      "\u001b[0;32m<ipython-input-3-eb0b7e221122>\u001b[0m in \u001b[0;36m<module>\u001b[0;34m\u001b[0m\n\u001b[1;32m      1\u001b[0m \u001b[0mreplications\u001b[0m \u001b[0;34m=\u001b[0m \u001b[0;36m100\u001b[0m\u001b[0;34m\u001b[0m\u001b[0;34m\u001b[0m\u001b[0m\n\u001b[1;32m      2\u001b[0m \u001b[0mreplications\u001b[0m \u001b[0;34m=\u001b[0m \u001b[0mReplicator\u001b[0m\u001b[0;34m(\u001b[0m\u001b[0mscenarios\u001b[0m\u001b[0;34m,\u001b[0m \u001b[0mreplications\u001b[0m\u001b[0;34m)\u001b[0m\u001b[0;34m\u001b[0m\u001b[0;34m\u001b[0m\u001b[0m\n\u001b[0;32m----> 3\u001b[0;31m \u001b[0mreplications\u001b[0m\u001b[0;34m.\u001b[0m\u001b[0mrun_scenarios\u001b[0m\u001b[0;34m(\u001b[0m\u001b[0;34m)\u001b[0m\u001b[0;34m\u001b[0m\u001b[0;34m\u001b[0m\u001b[0m\n\u001b[0m",
      "\u001b[0;32m~/Dropbox/01_Current_Projects/01_Stroke/2002_london_asu/2105_london_acute_stroke_unit/sim_utils/replication.py\u001b[0m in \u001b[0;36mrun_scenarios\u001b[0;34m(self)\u001b[0m\n\u001b[1;32m    226\u001b[0m \u001b[0;34m\u001b[0m\u001b[0m\n\u001b[1;32m    227\u001b[0m         \u001b[0;31m# save results\u001b[0m\u001b[0;34m\u001b[0m\u001b[0;34m\u001b[0m\u001b[0;34m\u001b[0m\u001b[0m\n\u001b[0;32m--> 228\u001b[0;31m         \u001b[0mself\u001b[0m\u001b[0;34m.\u001b[0m\u001b[0msave_results\u001b[0m\u001b[0;34m(\u001b[0m\u001b[0;34m)\u001b[0m\u001b[0;34m\u001b[0m\u001b[0;34m\u001b[0m\u001b[0m\n\u001b[0m\u001b[1;32m    229\u001b[0m \u001b[0;34m\u001b[0m\u001b[0m\n\u001b[1;32m    230\u001b[0m     \u001b[0;32mdef\u001b[0m \u001b[0mrun_trial\u001b[0m\u001b[0;34m(\u001b[0m\u001b[0mself\u001b[0m\u001b[0;34m,\u001b[0m \u001b[0mscenario\u001b[0m\u001b[0;34m)\u001b[0m\u001b[0;34m:\u001b[0m\u001b[0;34m\u001b[0m\u001b[0;34m\u001b[0m\u001b[0m\n",
      "\u001b[0;32m~/Dropbox/01_Current_Projects/01_Stroke/2002_london_asu/2105_london_acute_stroke_unit/sim_utils/replication.py\u001b[0m in \u001b[0;36msave_results\u001b[0;34m(self)\u001b[0m\n\u001b[1;32m    259\u001b[0m         \u001b[0mself\u001b[0m\u001b[0;34m.\u001b[0m\u001b[0msummary_unit_occupancy_preferred_waiting\u001b[0m\u001b[0;34m.\u001b[0m\u001b[0mto_csv\u001b[0m\u001b[0;34m(\u001b[0m\u001b[0;34m'./output/waiting_preferred_trial.csv'\u001b[0m\u001b[0;34m)\u001b[0m\u001b[0;34m\u001b[0m\u001b[0;34m\u001b[0m\u001b[0m\n\u001b[1;32m    260\u001b[0m \u001b[0;34m\u001b[0m\u001b[0m\n\u001b[0;32m--> 261\u001b[0;31m         \u001b[0mself\u001b[0m\u001b[0;34m.\u001b[0m\u001b[0msummary_unit_admissions_pivot\u001b[0m\u001b[0;34m.\u001b[0m\u001b[0mto_csv\u001b[0m\u001b[0;34m(\u001b[0m\u001b[0;34m'./output/unit_admissions.csv'\u001b[0m\u001b[0;34m)\u001b[0m\u001b[0;34m\u001b[0m\u001b[0;34m\u001b[0m\u001b[0m\n\u001b[0m\u001b[1;32m    262\u001b[0m \u001b[0;34m\u001b[0m\u001b[0m\n\u001b[1;32m    263\u001b[0m \u001b[0;34m\u001b[0m\u001b[0m\n",
      "\u001b[0;31mAttributeError\u001b[0m: 'Replicator' object has no attribute 'summary_unit_admissions_pivot'"
     ]
    }
   ],
   "source": [
    "replications = 100\n",
    "replications = Replicator(scenarios, replications)\n",
    "replications.run_scenarios()"
   ]
  },
  {
   "cell_type": "markdown",
   "metadata": {},
   "source": [
    "## Show model default parameters\n",
    "\n",
    "Run the code below to model defaults (these are over-ridden by scenario values above)."
   ]
  },
  {
   "cell_type": "code",
   "execution_count": null,
   "metadata": {},
   "outputs": [],
   "source": [
    "print(inspect.getsource(Scenario.__init__))"
   ]
  }
 ],
 "metadata": {
  "kernelspec": {
   "display_name": "Python 3",
   "language": "python",
   "name": "python3"
  },
  "language_info": {
   "codemirror_mode": {
    "name": "ipython",
    "version": 3
   },
   "file_extension": ".py",
   "mimetype": "text/x-python",
   "name": "python",
   "nbconvert_exporter": "python",
   "pygments_lexer": "ipython3",
   "version": "3.8.8"
  }
 },
 "nbformat": 4,
 "nbformat_minor": 4
}

{
 "cells": [
  {
   "cell_type": "markdown",
   "metadata": {},
   "source": [
    "# London ASU model"
   ]
  },
  {
   "cell_type": "markdown",
   "metadata": {},
   "source": [
    "## Requirements and module imports\n",
    "\n",
    "Code in this simulation uses a standard Anaconda Python environment (https://www.anaconda.com/distribution/#download-section). Additionally this model uses SimPy3 (https://simpy.readthedocs.io/en/latest/). Install SimPy3 with `pip install 'simpy<4'`."
   ]
  },
  {
   "cell_type": "code",
   "execution_count": 1,
   "metadata": {},
   "outputs": [],
   "source": [
    "import simpy\n",
    "import inspect\n",
    "from sim_utils.replication import Replicator\n",
    "from sim_utils.parameters import Scenario"
   ]
  },
  {
   "cell_type": "markdown",
   "metadata": {},
   "source": [
    "## Set up scenarios\n",
    "\n",
    "Parameters defined in scenarios will overwrite default values in the parameters python file."
   ]
  },
  {
   "cell_type": "code",
   "execution_count": 2,
   "metadata": {},
   "outputs": [],
   "source": [
    "# Set up a dictionary to hold scenarios\n",
    "scenarios = {}\n",
    "\n",
    "# Baseline sceanrio (model defaults)\n",
    "scenarios['constrained_beds'] = Scenario(\n",
    "    allow_non_preferred_asu = False)\n",
    "scenarios['constrained_beds_allow_redirect'] = Scenario(\n",
    "    allow_non_preferred_asu = True)"
   ]
  },
  {
   "cell_type": "markdown",
   "metadata": {},
   "source": [
    "## Run model"
   ]
  },
  {
   "cell_type": "code",
   "execution_count": null,
   "metadata": {},
   "outputs": [
    {
     "name": "stdout",
     "output_type": "stream",
     "text": [
      "                                                                               \n",
      "Global results (mean)\n",
      "---------------------\n",
      "name                      constrained_beds  constrained_beds_allow_redirect\n",
      "total_patients                     9,523.0                          9,523.0\n",
      "total_patients_asu                 5,553.0                          5,522.0\n",
      "total_patients_displaced               0.0                            163.0\n",
      "total_patients_waited                348.0                              0.0\n",
      "\n",
      "Average patients waiting for ASU\n",
      "--------------------------------\n",
      "name\n",
      "constrained_beds                  2.1\n",
      "constrained_beds_allow_redirect   0.0\n",
      "Name: asu_patients_unallocated, dtype: float64\n",
      "\n",
      "Average delay (days) for patients who had to wait\n",
      "---------------------------------------------------\n",
      "name\n",
      "constrained_beds                  3.2\n",
      "constrained_beds_allow_redirect   0.0\n",
      "Name: 0, dtype: float64\n",
      "\n",
      "Unit admissions\n",
      "------------------\n",
      "name                   constrained_beds  constrained_beds_allow_redirect\n",
      "Barnet General SU                 162.4                            156.4\n",
      "Charing Cross SU                  333.3                            335.2\n",
      "Chelsea & Wminster SU             186.3                            185.9\n",
      "Croydon SU                        265.8                            263.7\n",
      "Hillingdon SU                     285.3                            283.6\n",
      "Homerton SU                       169.7                            170.0\n",
      "Kingston SU                       194.4                            192.2\n",
      "King’s College SU                 180.6                            182.5\n",
      "Lewisham SU                       534.2                            534.0\n",
      "N Middlesex SU                    319.4                            329.2\n",
      "Newham General SU                 178.2                            177.3\n",
      "Northwick Park SU                 378.2                            381.6\n",
      "Princess Royal SU                 281.2                            279.6\n",
      "Queens Romford SU                 409.4                            409.4\n",
      "Royal Free SU                     284.2                            287.3\n",
      "Royal London SU                   110.8                            109.3\n",
      "St George’s SU                    158.5                            157.2\n",
      "St Helier SU                      200.1                            203.8\n",
      "St Thomas SU                      226.1                            225.1\n",
      "University College SU             176.0                            169.2\n",
      "W Middlesex SU                    203.2                            201.7\n",
      "Whipps Cross SU                   209.6                            210.1\n",
      "\n",
      "Unit occupancy (mean)\n",
      "-----------------\n",
      "name                   constrained_beds  constrained_beds_allow_redirect\n",
      "Barnet General SU                  12.4                             11.8\n",
      "Charing Cross SU                   25.6                             26.0\n",
      "Chelsea & Wminster SU              14.4                             14.0\n",
      "Croydon SU                         19.9                             20.5\n",
      "Hillingdon SU                      22.6                             22.0\n",
      "Homerton SU                        13.0                             13.2\n",
      "Kingston SU                        14.8                             14.6\n",
      "King’s College SU                  14.3                             14.0\n",
      "Lewisham SU                        41.7                             40.9\n",
      "N Middlesex SU                     25.4                             25.8\n",
      "Newham General SU                  13.3                             13.8\n",
      "Northwick Park SU                  29.1                             30.3\n",
      "Princess Royal SU                  21.2                             21.2\n",
      "Queens Romford SU                  31.5                             32.3\n",
      "Royal Free SU                      21.2                             22.6\n",
      "Royal London SU                     8.7                              8.4\n",
      "St George’s SU                     12.2                             11.4\n",
      "St Helier SU                       15.5                             15.4\n",
      "St Thomas SU                       17.4                             17.5\n",
      "University College SU              13.5                             12.8\n",
      "W Middlesex SU                     15.2                             15.1\n",
      "Whipps Cross SU                    16.2                             15.6\n",
      "\n",
      "Unit occupancy (95th percentile)\n",
      "-----------------\n",
      "name                   constrained_beds  constrained_beds_allow_redirect\n",
      "Barnet General SU                  17.0                             16.0\n",
      "Charing Cross SU                   33.0                             33.0\n",
      "Chelsea & Wminster SU              20.0                             20.0\n",
      "Croydon SU                         28.0                             26.0\n",
      "Hillingdon SU                      30.0                             29.0\n",
      "Homerton SU                        18.0                             19.0\n",
      "Kingston SU                        21.0                             21.0\n",
      "King’s College SU                  21.0                             20.0\n",
      "Lewisham SU                        53.0                             51.0\n",
      "N Middlesex SU                     33.0                             33.0\n",
      "Newham General SU                  20.0                             18.0\n",
      "Northwick Park SU                  38.1                             39.0\n",
      "Princess Royal SU                  29.0                             28.0\n",
      "Queens Romford SU                  41.0                             40.0\n",
      "Royal Free SU                      29.0                             29.0\n",
      "Royal London SU                    13.0                             12.0\n",
      "St George’s SU                     18.0                             17.0\n",
      "St Helier SU                       22.0                             21.0\n",
      "St Thomas SU                       25.0                             24.0\n",
      "University College SU              19.0                             18.0\n",
      "W Middlesex SU                     22.0                             20.0\n",
      "Whipps Cross SU                    22.0                             22.0\n"
     ]
    }
   ],
   "source": [
    "replications = 100\n",
    "replications = Replicator(scenarios, replications)\n",
    "replications.run_scenarios()"
   ]
  },
  {
   "cell_type": "markdown",
   "metadata": {},
   "source": [
    "## Show model default parameters\n",
    "\n",
    "Run the code below to model defaults (these are over-ridden by scenario values above)."
   ]
  },
  {
   "cell_type": "code",
   "execution_count": null,
   "metadata": {},
   "outputs": [],
   "source": [
    "print(inspect.getsource(Scenario.__init__))"
   ]
  }
 ],
 "metadata": {
  "kernelspec": {
   "display_name": "Python 3",
   "language": "python",
   "name": "python3"
  },
  "language_info": {
   "codemirror_mode": {
    "name": "ipython",
    "version": 3
   },
   "file_extension": ".py",
   "mimetype": "text/x-python",
   "name": "python",
   "nbconvert_exporter": "python",
   "pygments_lexer": "ipython3",
   "version": "3.8.8"
  }
 },
 "nbformat": 4,
 "nbformat_minor": 4
}

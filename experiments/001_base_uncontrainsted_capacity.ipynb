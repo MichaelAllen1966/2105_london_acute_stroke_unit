{
 "cells": [
  {
   "cell_type": "markdown",
   "metadata": {},
   "source": [
    "# London ASU model"
   ]
  },
  {
   "cell_type": "markdown",
   "metadata": {},
   "source": [
    "## Requirements and module imports\n",
    "\n",
    "Code in this simulation uses a standard Anaconda Python environment (https://www.anaconda.com/distribution/#download-section). Additionally this model uses SimPy3 (https://simpy.readthedocs.io/en/latest/). Install SimPy3 with `pip install 'simpy<4'`."
   ]
  },
  {
   "cell_type": "code",
   "execution_count": 1,
   "metadata": {},
   "outputs": [],
   "source": [
    "import simpy\n",
    "import inspect\n",
    "from sim_utils.replication import Replicator\n",
    "from sim_utils.parameters import Scenario"
   ]
  },
  {
   "cell_type": "markdown",
   "metadata": {},
   "source": [
    "## Set up scenarios\n",
    "\n",
    "Parameters defined in scenarios will overwrite default values in the parameters python file."
   ]
  },
  {
   "cell_type": "code",
   "execution_count": 2,
   "metadata": {},
   "outputs": [],
   "source": [
    "# Set up a dictionary to hold scenarios\n",
    "scenarios = {}\n",
    "\n",
    "# Baseline sceanrio (model defaults)\n",
    "scenarios['base'] = Scenario()"
   ]
  },
  {
   "cell_type": "markdown",
   "metadata": {},
   "source": [
    "## Run model"
   ]
  },
  {
   "cell_type": "code",
   "execution_count": 3,
   "metadata": {},
   "outputs": [
    {
     "name": "stdout",
     "output_type": "stream",
     "text": [
      "                                                                               \n",
      "Global results (mean)\n",
      "---------------------\n",
      "name                        base\n",
      "total_patients           9,523.0\n",
      "total_patients_asu       5,553.0\n",
      "total_patients_displaced     0.0\n",
      "total_patients_waited        0.0\n",
      "\n",
      "Unit admissions\n",
      "------------------\n",
      "Barnet General SU       162.9\n",
      "Charing Cross SU        335.1\n",
      "Chelsea & Wminster SU   189.3\n",
      "Croydon SU              265.7\n",
      "Hillingdon SU           280.3\n",
      "Homerton SU             168.0\n",
      "Kingston SU             191.4\n",
      "King’s College SU       180.6\n",
      "Lewisham SU             529.1\n",
      "N Middlesex SU          318.0\n",
      "Newham General SU       178.6\n",
      "Northwick Park SU       379.8\n",
      "Princess Royal SU       283.2\n",
      "Queens Romford SU       412.3\n",
      "Royal Free SU           287.4\n",
      "Royal London SU         110.2\n",
      "St George’s SU          158.6\n",
      "St Helier SU            200.3\n",
      "St Thomas SU            226.9\n",
      "University College SU   173.0\n",
      "W Middlesex SU          202.9\n",
      "Whipps Cross SU         207.7\n",
      "Name: mean, dtype: float64\n",
      "\n",
      "Unit occupancy (mean)\n",
      "-----------------\n",
      "name                   base\n",
      "Barnet General SU      12.4\n",
      "Charing Cross SU       25.7\n",
      "Chelsea & Wminster SU  14.1\n",
      "Croydon SU             19.9\n",
      "Hillingdon SU          21.7\n",
      "Homerton SU            12.9\n",
      "Kingston SU            14.5\n",
      "King’s College SU      14.2\n",
      "Lewisham SU            41.4\n",
      "N Middlesex SU         24.8\n",
      "Newham General SU      14.0\n",
      "Northwick Park SU      29.7\n",
      "Princess Royal SU      21.1\n",
      "Queens Romford SU      31.8\n",
      "Royal Free SU          22.3\n",
      "Royal London SU         8.2\n",
      "St George’s SU         11.9\n",
      "St Helier SU           15.8\n",
      "St Thomas SU           17.5\n",
      "University College SU  13.7\n",
      "W Middlesex SU         15.4\n",
      "Whipps Cross SU        15.7\n",
      "\n",
      "Unit occupancy (95th percentile)\n",
      "-----------------\n",
      "name                   base\n",
      "Barnet General SU      19.0\n",
      "Charing Cross SU       34.0\n",
      "Chelsea & Wminster SU  21.0\n",
      "Croydon SU             27.0\n",
      "Hillingdon SU          30.0\n",
      "Homerton SU            19.0\n",
      "Kingston SU            20.0\n",
      "King’s College SU      20.0\n",
      "Lewisham SU            52.0\n",
      "N Middlesex SU         33.0\n",
      "Newham General SU      20.0\n",
      "Northwick Park SU      38.0\n",
      "Princess Royal SU      29.0\n",
      "Queens Romford SU      41.0\n",
      "Royal Free SU          30.0\n",
      "Royal London SU        13.0\n",
      "St George’s SU         17.0\n",
      "St Helier SU           24.0\n",
      "St Thomas SU           25.0\n",
      "University College SU  20.0\n",
      "W Middlesex SU         20.0\n",
      "Whipps Cross SU        23.0\n"
     ]
    }
   ],
   "source": [
    "replications = 100\n",
    "replications = Replicator(scenarios, replications)\n",
    "replications.run_scenarios()"
   ]
  },
  {
   "cell_type": "markdown",
   "metadata": {},
   "source": [
    "## Show model default parameters\n",
    "\n",
    "Run the code below to model defaults (these are over-ridden by scenario values above)."
   ]
  },
  {
   "cell_type": "code",
   "execution_count": 4,
   "metadata": {},
   "outputs": [
    {
     "name": "stdout",
     "output_type": "stream",
     "text": [
      "    def __init__(self, *initial_data, **kwargs):\n",
      "        \"\"\"Default  parameters\"\"\"\n",
      "        # Simulation parameters\n",
      "        self.sim_warmup = 100\n",
      "        self.sim_duration = 365\n",
      "\n",
      "        # Scale admissions\n",
      "        self.scale_admissions = 1.0\n",
      "\n",
      "        # Patient flow\n",
      "        self.require_asu = 0.57\n",
      "        self.esd_use = 0.\n",
      "        self.esd_asu_los_reduction = 7.0\n",
      "        self.los_cv = 0.3\n",
      "        self.allow_non_preferred_asu = False\n",
      "\n",
      "        # Overwrite default values\n",
      "\n",
      "        for dictionary in initial_data:\n",
      "            for key in dictionary:\n",
      "                setattr(self, key, dictionary[key])\n",
      "        for key in kwargs:\n",
      "            setattr(self, key, kwargs[key])\n",
      "\n"
     ]
    }
   ],
   "source": [
    "print(inspect.getsource(Scenario.__init__))"
   ]
  }
 ],
 "metadata": {
  "kernelspec": {
   "display_name": "Python 3",
   "language": "python",
   "name": "python3"
  },
  "language_info": {
   "codemirror_mode": {
    "name": "ipython",
    "version": 3
   },
   "file_extension": ".py",
   "mimetype": "text/x-python",
   "name": "python",
   "nbconvert_exporter": "python",
   "pygments_lexer": "ipython3",
   "version": "3.8.8"
  }
 },
 "nbformat": 4,
 "nbformat_minor": 4
}
